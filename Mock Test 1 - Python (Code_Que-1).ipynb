{
 "cells": [
  {
   "cell_type": "markdown",
   "id": "9d694da4",
   "metadata": {},
   "source": [
    "# Mock Test 1 - Python (Code_Que-1)"
   ]
  },
  {
   "cell_type": "markdown",
   "id": "c1c64dfb",
   "metadata": {},
   "source": [
    "Move Zeroes\\\n",
    "Given an integer array nums, move all 0's to the end of it while maintaining the relative order of the non-zero elements.\\\n",
    "\\\n",
    "Note that you must do this in-place without making a copy of the array.\n",
    "\n",
    "Example 1\n",
    "Input: nums = [0,1,0,3,12]\\\n",
    "Output: [1,3,12,0,0]\n",
    "\n",
    "Example 2:\\\n",
    "Input: nums = [0]\\\n",
    "Output: [0]\\\n",
    "\n",
    "Constraints:\\\n",
    "a. 1 <= nums.length <= 10^4\\\n",
    "b. -2^31 <= nums[i] <= 2^31 - 1"
   ]
  },
  {
   "cell_type": "code",
   "execution_count": 6,
   "id": "91266b0d",
   "metadata": {},
   "outputs": [
    {
     "name": "stdout",
     "output_type": "stream",
     "text": [
      "[1, 3, 12, 0, 0]\n"
     ]
    }
   ],
   "source": [
    "def movesZero(nums):\n",
    "    # initialize two pointers\n",
    "    i = 0  #iterating through the array\n",
    "    j = 0  #track of the position to place non-zero elements\n",
    "    \n",
    "    #itreate through the array\n",
    "    while i < len(nums):\n",
    "        if nums[i] != 0:\n",
    "            nums[i], nums[j] = nums[j] , nums[i]\n",
    "            # move the pointers towords the center.\n",
    "            j += 1\n",
    "        i += 1\n",
    "            \n",
    "    while j < len(nums):\n",
    "        nums[j] = 0\n",
    "        j += 1\n",
    "        \n",
    "    \n",
    "\n",
    "nums = [0, 1, 0, 3, 12]\n",
    "movesZero(nums)\n",
    "print(nums)    \n"
   ]
  },
  {
   "cell_type": "code",
   "execution_count": 7,
   "id": "26273e44",
   "metadata": {},
   "outputs": [
    {
     "name": "stdout",
     "output_type": "stream",
     "text": [
      "[0]\n"
     ]
    }
   ],
   "source": [
    "#Example 2:\n",
    "nums = [0]\n",
    "movesZero(nums)\n",
    "print(nums)    "
   ]
  },
  {
   "cell_type": "code",
   "execution_count": null,
   "id": "bda0e10d",
   "metadata": {},
   "outputs": [],
   "source": []
  }
 ],
 "metadata": {
  "kernelspec": {
   "display_name": "Python 3 (ipykernel)",
   "language": "python",
   "name": "python3"
  },
  "language_info": {
   "codemirror_mode": {
    "name": "ipython",
    "version": 3
   },
   "file_extension": ".py",
   "mimetype": "text/x-python",
   "name": "python",
   "nbconvert_exporter": "python",
   "pygments_lexer": "ipython3",
   "version": "3.9.13"
  }
 },
 "nbformat": 4,
 "nbformat_minor": 5
}
