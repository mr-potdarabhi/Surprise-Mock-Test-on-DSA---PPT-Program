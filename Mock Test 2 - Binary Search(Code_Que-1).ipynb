{
 "cells": [
  {
   "cell_type": "markdown",
   "id": "c12f044e",
   "metadata": {},
   "source": [
    "**Given a non-negative integer x, return the square root of x rounded down to the nearest integer. The returned integer should be non-negative as well. You must not use any built-in exponent function or operator.** \n",
    "\n",
    " *Example 1:*\n",
    "*Input*: x = 4 Output: 2 Explanation: The square root of 4 is 2, so we return 2.\n",
    "Example 2:\n",
    "\n",
    "*Input*: x = 8 Output: 2 Explanation: The square root of 8 is 2.82842..., and since we round it down to the nearest integer, 2 is returned.\\\n",
    "*Constraints*:\n",
    "\n",
    "0 <= x <= 2^31 - 1\n",
    "\n",
    "Note: Create a GitHub file for the solution and add the file link the the answer section below."
   ]
  },
  {
   "cell_type": "code",
   "execution_count": 3,
   "id": "660a8693",
   "metadata": {},
   "outputs": [
    {
     "name": "stdout",
     "output_type": "stream",
     "text": [
      "The square root of 4 is 2\n",
      "The square root of 8 is 2\n"
     ]
    }
   ],
   "source": [
    "def sqrt(x):\n",
    "   \n",
    "    if x == 0 or x == 1:                    #if x is 0 or 1, the square root is equal to x itself\n",
    "        return x\n",
    "\n",
    "    # Initi the variables for binary search\n",
    "    left = 0\n",
    "    right = x\n",
    "\n",
    "    # find the square root\n",
    "    while left <= right:\n",
    "        mid = (left + right) // 2\n",
    "        # Check if mid*2 is equal to x\n",
    "        if mid * mid == x:\n",
    "            return mid\n",
    "        # If mid*2 is greater than x, move the right pointer\n",
    "        elif mid * mid > x:\n",
    "            right = mid - 1\n",
    "        # If mid^2 is less than x, move the left pointer\n",
    "        else:\n",
    "            left = mid + 1\n",
    "\n",
    "    # When the while loop terminates, the right pointer will be the largest integer whose square is less than or equal to x\n",
    "    # We return the value of the right pointer as the rounded down square root\n",
    "    return right\n",
    "\n",
    "# Test the function\n",
    "x = 4\n",
    "output = sqrt(x)\n",
    "print(f\"The square root of {x} is {output}\")\n",
    "\n",
    "x = 8\n",
    "output = sqrt(x)\n",
    "print(f\"The square root of {x} is {output}\")\n"
   ]
  },
  {
   "cell_type": "code",
   "execution_count": null,
   "id": "04c8d93d",
   "metadata": {},
   "outputs": [],
   "source": []
  }
 ],
 "metadata": {
  "kernelspec": {
   "display_name": "Python 3 (ipykernel)",
   "language": "python",
   "name": "python3"
  },
  "language_info": {
   "codemirror_mode": {
    "name": "ipython",
    "version": 3
   },
   "file_extension": ".py",
   "mimetype": "text/x-python",
   "name": "python",
   "nbconvert_exporter": "python",
   "pygments_lexer": "ipython3",
   "version": "3.9.13"
  }
 },
 "nbformat": 4,
 "nbformat_minor": 5
}
