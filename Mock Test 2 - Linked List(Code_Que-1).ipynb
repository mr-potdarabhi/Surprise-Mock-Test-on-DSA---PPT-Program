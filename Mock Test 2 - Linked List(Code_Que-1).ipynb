{
 "cells": [
  {
   "cell_type": "markdown",
   "id": "e225c00a",
   "metadata": {},
   "source": [
    "**You are given two non-empty linked lists representing two non-negative integers. The digits are stored in reverse order, and each of their nodes contains a single digit. Add the two numbers and return the sum as a linked list**\n",
    "\n",
    "**You may assume the two numbers do not contain any leading zero, except the number 0 itself.**\n",
    "\n",
    "\n",
    "Example 1:\n",
    "\n",
    "Input: l1 = [2,4,3], l2 = [5,6,4] Output: [7,0,8] Explanation: 342 + 465 = 807.\n",
    "\n",
    "Example 2:\n",
    "\n",
    "Input: l1 = [0], l2 = [0] Output: [0]\n",
    "\n",
    "Example 3:\n",
    "\n",
    "Input: l1 = [9,9,9,9,9,9,9], l2 = [9,9,9,9] Output: [8,9,9,9,0,0,0,1]\n",
    "\n",
    " \n",
    "\n",
    "Constraints:\n",
    "\n",
    "The number of nodes in each linked list is in the range [1, 100].\n",
    "0 <= Node.val <= 9 It is guaranteed that the list represents a number that does not have leading zeros."
   ]
  },
  {
   "cell_type": "code",
   "execution_count": 1,
   "id": "ca793c17",
   "metadata": {},
   "outputs": [],
   "source": [
    "def addTwoNumbers(l1, l2):\n",
    "    # Initialize a dummy head for the result linked list\n",
    "    dummy = ListNode(0)\n",
    "    current = dummy\n",
    "    carry = 0\n",
    "\n",
    "    # Iterate through both linked lists until both are empty\n",
    "    while l1 or l2:\n",
    "        # Get the values of the current nodes (if available)\n",
    "        val1 = l1.val if l1 else 0\n",
    "        val2 = l2.val if l2 else 0\n",
    "\n",
    "        # Calculate the sum of the current digits and the carry\n",
    "        total = val1 + val2 + carry\n",
    "        carry = total // 10  # Determine the carry for the next digit\n",
    "        digit = total % 10  # Calculate the value of the current digit\n",
    "\n",
    "        # Create a new node with the current digit and append it to the result linked list\n",
    "        current.next = ListNode(digit)\n",
    "        current = current.next\n",
    "\n",
    "        # Move to the next nodes in the input linked lists (if available)\n",
    "        if l1:\n",
    "            l1 = l1.next\n",
    "        if l2:\n",
    "            l2 = l2.next\n",
    "\n",
    "    # Handle the remaining carry, if any\n",
    "    if carry > 0:\n",
    "        current.next = ListNode(carry)\n",
    "\n",
    "    # Return the result linked list (excluding the dummy head)\n",
    "    return dummy.next"
   ]
  },
  {
   "cell_type": "code",
   "execution_count": 7,
   "id": "fe928806",
   "metadata": {},
   "outputs": [
    {
     "name": "stdout",
     "output_type": "stream",
     "text": [
      "Example 1: [7, 0, 8]\n"
     ]
    }
   ],
   "source": [
    "# Test the function\n",
    "# Example 1:\n",
    "l1 = ListNode(2)\n",
    "l1.next = ListNode(4)\n",
    "l1.next.next = ListNode(3)\n",
    "\n",
    "l2 = ListNode(5)\n",
    "l2.next = ListNode(6)\n",
    "l2.next.next = ListNode(4)\n",
    "\n",
    "result = addTwoNumbers(l1, l2)\n",
    "output = []\n",
    "while result:\n",
    "    output.append(result.val)\n",
    "    result = result.next\n",
    "print(f\"Example 1: {output}\") \n"
   ]
  },
  {
   "cell_type": "code",
   "execution_count": 6,
   "id": "4b1cb1e8",
   "metadata": {},
   "outputs": [
    {
     "name": "stdout",
     "output_type": "stream",
     "text": [
      "Example 2: [0]\n"
     ]
    }
   ],
   "source": [
    "# Example 2:\n",
    "l1 = ListNode(0)\n",
    "l2 = ListNode(0)\n",
    "\n",
    "result = addTwoNumbers(l1, l2)\n",
    "output = []\n",
    "while result:\n",
    "    output.append(result.val)\n",
    "    result = result.next\n",
    "print(f\"Example 2: {output}\") \n"
   ]
  },
  {
   "cell_type": "code",
   "execution_count": 9,
   "id": "bdfed1d0",
   "metadata": {},
   "outputs": [
    {
     "name": "stdout",
     "output_type": "stream",
     "text": [
      "Example 3: [8, 9, 9, 9, 0, 0, 0, 1]\n"
     ]
    }
   ],
   "source": [
    "# Example 3:\n",
    "l1 = ListNode(9)\n",
    "l1.next = ListNode(9)\n",
    "l1.next.next = ListNode(9)\n",
    "l1.next.next.next = ListNode(9)\n",
    "l1.next.next.next.next = ListNode(9)\n",
    "l1.next.next.next.next.next = ListNode(9)\n",
    "l1.next.next.next.next.next.next = ListNode(9)\n",
    "\n",
    "l2 = ListNode(9)\n",
    "l2.next = ListNode(9\n",
    "l2.next.next = ListNode(9)\n",
    "l2.next.next.next = ListNode(9)\n",
    "\n",
    "result = addTwoNumbers(l1, l2)\n",
    "output = []\n",
    "while result:\n",
    "    output.append(result.val)\n",
    "    result = result.next\n",
    "print(f\"Example 3: {output}\") \n"
   ]
  },
  {
   "cell_type": "code",
   "execution_count": null,
   "id": "6454ddcf",
   "metadata": {},
   "outputs": [],
   "source": []
  }
 ],
 "metadata": {
  "kernelspec": {
   "display_name": "Python 3 (ipykernel)",
   "language": "python",
   "name": "python3"
  },
  "language_info": {
   "codemirror_mode": {
    "name": "ipython",
    "version": 3
   },
   "file_extension": ".py",
   "mimetype": "text/x-python",
   "name": "python",
   "nbconvert_exporter": "python",
   "pygments_lexer": "ipython3",
   "version": "3.9.13"
  }
 },
 "nbformat": 4,
 "nbformat_minor": 5
}
