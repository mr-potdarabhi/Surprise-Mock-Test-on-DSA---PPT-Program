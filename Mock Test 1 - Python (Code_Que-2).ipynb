{
 "cells": [
  {
   "cell_type": "markdown",
   "id": "a591110b",
   "metadata": {},
   "source": [
    "# Mock Test 1 - Python (Code_Que-2)"
   ]
  },
  {
   "cell_type": "code",
   "execution_count": 2,
   "id": "0e36b98a",
   "metadata": {},
   "outputs": [
    {
     "name": "stdout",
     "output_type": "stream",
     "text": [
      "0\n"
     ]
    }
   ],
   "source": [
    "def uniq_char(s):\n",
    "    char_count = {}\n",
    "    \n",
    "    for char in s:\n",
    "        char_count[char] = char_count.get(char , 0) + 1\n",
    "        \n",
    "        \n",
    "    for i , char in enumerate(s):\n",
    "        if char_count[char] == 1:\n",
    "            return i\n",
    "        \n",
    "        \n",
    "    return -1\n",
    "\n",
    "#Example 1:\n",
    "s = \"leetcode\"\n",
    "print(uniq_char(s))"
   ]
  },
  {
   "cell_type": "code",
   "execution_count": 4,
   "id": "0ff6e288",
   "metadata": {},
   "outputs": [
    {
     "name": "stdout",
     "output_type": "stream",
     "text": [
      "2\n"
     ]
    }
   ],
   "source": [
    "#Example 2:\n",
    "s = \"loveleetcode\"\n",
    "print(uniq_char(s))\n",
    "#Output: 2"
   ]
  },
  {
   "cell_type": "code",
   "execution_count": 5,
   "id": "9ec6aec2",
   "metadata": {},
   "outputs": [
    {
     "name": "stdout",
     "output_type": "stream",
     "text": [
      "-1\n"
     ]
    }
   ],
   "source": [
    "#Example 3:\n",
    "s = \"aabb\"\n",
    "print(uniq_char(s))\n",
    "#Output: -1"
   ]
  },
  {
   "cell_type": "code",
   "execution_count": null,
   "id": "793d9bfb",
   "metadata": {},
   "outputs": [],
   "source": []
  }
 ],
 "metadata": {
  "kernelspec": {
   "display_name": "Python 3 (ipykernel)",
   "language": "python",
   "name": "python3"
  },
  "language_info": {
   "codemirror_mode": {
    "name": "ipython",
    "version": 3
   },
   "file_extension": ".py",
   "mimetype": "text/x-python",
   "name": "python",
   "nbconvert_exporter": "python",
   "pygments_lexer": "ipython3",
   "version": "3.9.13"
  }
 },
 "nbformat": 4,
 "nbformat_minor": 5
}
